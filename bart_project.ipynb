{
 "cells": [
  {
   "cell_type": "code",
   "execution_count": 1,
   "metadata": {},
   "outputs": [],
   "source": [
    "# Make BART Great Again\n",
    "# Dependencies\n",
    "import os\n",
    "import csv\n",
    "import pandas as pd\n",
    "import json\n",
    "import requests\n",
    "from pprint import pprint\n",
    "# Personal dependencies\n",
    "from config import nyc_track_length\n",
    "from config import nyc_avg_fare\n",
    "from config import nyc_budg"
   ]
  },
  {
   "cell_type": "code",
   "execution_count": 2,
   "metadata": {},
   "outputs": [
    {
     "name": "stdout",
     "output_type": "stream",
     "text": [
      "BART has 45 stations.\n"
     ]
    }
   ],
   "source": [
    "# 2015 BART station data\n",
    "bart_station_api_url = 'https://data.bart.gov/api/3/action/datastore_search'\n",
    "all_stations = '?resource_id=48bee8d8-6106-4215-a937-31d71ee09f0c'\n",
    "limit_search = '&limit=5'\n",
    "bart_station_json = requests.get(bart_station_api_url + all_stations).json()\n",
    "num_bart_stations = len(bart_station_json['result']['records'])\n",
    "print(f'BART has {num_bart_stations} stations.')\n",
    "#print(f'BART has {bart_line_tot} lines.')\n",
    "#pprint(bart_station_json)"
   ]
  },
  {
   "cell_type": "code",
   "execution_count": 3,
   "metadata": {},
   "outputs": [
    {
     "name": "stdout",
     "output_type": "stream",
     "text": [
      "Sao Paulo metro has 79 stations and a total of 6 lines.\n",
      "Sao Paulo metro lines: [\"['azul']\", \"['vermelha']\", \"['lilas']\", \"['verde']\", \"['amarela']\", \"['prata']\"]\n"
     ]
    }
   ],
   "source": [
    "# Sao Paulo metro data\n",
    "# Bring csv data into pandas dataframe\n",
    "sp_metro_file = os.path.join('sao-paulo-metro-data', 'metrosp_stations_v2.csv')\n",
    "with open(sp_metro_file, newline='') as metro_holder:\n",
    "    sp_metro = csv.reader(metro_holder, delimiter=',')\n",
    "    sp_metro_headers = next(sp_metro)\n",
    "    sp_metro_data = pd.DataFrame([row for row in sp_metro])\n",
    "\n",
    "# Clean sp metro data\n",
    "sp_metro_data = sp_metro_data.rename(columns={0: sp_metro_headers[0],\n",
    "                                              1: sp_metro_headers[1],\n",
    "                                              2: sp_metro_headers[2],\n",
    "                                              3: sp_metro_headers[3],\n",
    "                                              4: sp_metro_headers[4],\n",
    "                                              5: sp_metro_headers[5]})\n",
    "sp_metro_data = sp_metro_data.drop(columns=['', 'station', 'lat', 'lon'])\n",
    "\n",
    "num_sp_stations = len(sp_metro_data['name'])\n",
    "\n",
    "sp_lines = list(sp_metro_data['line'].value_counts().index[:6])\n",
    "num_sp_lines = len(sp_lines)\n",
    "\n",
    "print(f'Sao Paulo metro has {num_sp_stations} stations and a total of {num_sp_lines} lines.')\n",
    "print(f'Sao Paulo metro lines: {sp_lines}')"
   ]
  },
  {
   "cell_type": "code",
   "execution_count": 5,
   "metadata": {},
   "outputs": [
    {
     "name": "stdout",
     "output_type": "stream",
     "text": [
      "The NYC subway has 380 stations.\n",
      "The NYC subway has 36 lines.\n",
      "The NYC subway has 660.75 miles of track.\n",
      "The NYC subway has an average fare of $2.75.\n",
      "The NYC subway has an annual ridership of 353102740000.0 riders.\n",
      "The NYC subway has an annual ridership of 2985859999.9999995 riders.\n",
      "The NYC subway has an annual ridership of 2925569154.0000005 riders.\n",
      "The NYC subway had a cost per mile per customer of $6.857751175283427e-05 in 2017.\n",
      "The NYC subway had a cost per mile per customer of $0.008109860242043495 in 2016.\n",
      "The NYC subway had a cost per mile per customer of $0.008276990229132003 in 2015.\n"
     ]
    }
   ],
   "source": [
    "#NYC subway data\n",
    "#bring csvs into pandas dataframes\n",
    "nyc_metro_file = os.path.join('nyc-metro-data', 'stops.csv')\n",
    "with open(nyc_metro_file, newline='') as metro_holder:\n",
    "    nyc_metro = csv.reader(metro_holder, delimiter=',')\n",
    "    nyc_metro_headers = next(nyc_metro)\n",
    "    nyc_metro_data = pd.DataFrame([row for row in nyc_metro])\n",
    "nyc_metro_file2 = os.path.join('nyc-metro-data', 'nyc-transit-subway-entrance-and-exit-data.csv')\n",
    "with open(nyc_metro_file2, newline='') as metro_holder2:\n",
    "    nyc_metro2 = csv.reader(metro_holder2, delimiter=',')\n",
    "    nyc_metro_headers2 = next(nyc_metro2)\n",
    "    nyc_metro_data2 = pd.DataFrame([row for row in nyc_metro2])\n",
    "nyc_metro_file17 = os.path.join('nyc-metro-data', '2017-station-entry-and-exit-figures.csv')\n",
    "with open(nyc_metro_file17, newline='') as metro_holder17:\n",
    "    nyc_metro17 = csv.reader(metro_holder17, delimiter=',')\n",
    "    nyc_metro_headers17 = next(nyc_metro17)\n",
    "    nyc_metro_data17 = pd.DataFrame([row for row in nyc_metro17])\n",
    "nyc_metro_file16 = os.path.join('nyc-metro-data', '2016-station-entry-and-exit-figures.csv')\n",
    "with open(nyc_metro_file16, newline='') as metro_holder16:\n",
    "    nyc_metro16 = csv.reader(metro_holder16, delimiter=',')\n",
    "    nyc_metro_headers16 = next(nyc_metro16)\n",
    "    nyc_metro_data16 = pd.DataFrame([row for row in nyc_metro16])\n",
    "nyc_metro_file15 = os.path.join('nyc-metro-data', '2015-station-entry-and-exit-figures.csv')\n",
    "with open(nyc_metro_file15, newline='') as metro_holder15:\n",
    "    nyc_metro15 = csv.reader(metro_holder15, delimiter=',')\n",
    "    nyc_metro_headers15 = next(nyc_metro15)\n",
    "    nyc_metro_data15 = pd.DataFrame([row for row in nyc_metro15])\n",
    "#cleaning nyc data\n",
    "nyc_metro_data = nyc_metro_data.rename(columns={0: nyc_metro_headers[0],\n",
    "                                              1: nyc_metro_headers[1],\n",
    "                                              2: nyc_metro_headers[2],\n",
    "                                              3: nyc_metro_headers[3],\n",
    "                                              4: nyc_metro_headers[4],\n",
    "                                              5: nyc_metro_headers[5],\n",
    "                                              6: nyc_metro_headers[6],\n",
    "                                              7: nyc_metro_headers[7],\n",
    "                                              8: nyc_metro_headers[8],\n",
    "                                              9: nyc_metro_headers[9]})\n",
    "nyc_metro_data2 = nyc_metro_data2[[0, 1, 2, 3, 4]]\n",
    "nyc_metro_data2 = nyc_metro_data2.rename(columns={0: nyc_metro_headers2[0],\n",
    "                                              1: nyc_metro_headers2[1],\n",
    "                                              2: nyc_metro_headers2[2],\n",
    "                                              3: nyc_metro_headers2[3],\n",
    "                                              4: nyc_metro_headers2[4]})\n",
    "nyc_metro_data = nyc_metro_data.drop(columns=['stop_code', 'stop_desc', 'zone_id', 'stop_url'])\n",
    "nyc_metro_data17 = nyc_metro_data17.rename(columns={0: nyc_metro_headers17[0],\n",
    "                                              1: nyc_metro_headers17[1],\n",
    "                                              2: nyc_metro_headers17[2],\n",
    "                                              3: nyc_metro_headers17[3],\n",
    "                                              4: nyc_metro_headers17[4],\n",
    "                                              5: nyc_metro_headers17[5],\n",
    "                                              6: nyc_metro_headers17[6],\n",
    "                                              7: nyc_metro_headers17[7],\n",
    "                                              8: nyc_metro_headers17[8],\n",
    "                                              9: nyc_metro_headers17[9],\n",
    "                                              10: nyc_metro_headers17[10]})\n",
    "nyc_metro_data16 = nyc_metro_data16.rename(columns={0: nyc_metro_headers16[0],\n",
    "                                              1: nyc_metro_headers16[1],\n",
    "                                              2: nyc_metro_headers16[2],\n",
    "                                              3: nyc_metro_headers16[3],\n",
    "                                              4: nyc_metro_headers16[4],\n",
    "                                              5: nyc_metro_headers16[5],\n",
    "                                              6: nyc_metro_headers16[6],\n",
    "                                              7: nyc_metro_headers16[7],\n",
    "                                              8: nyc_metro_headers16[8],\n",
    "                                              9: nyc_metro_headers16[9],\n",
    "                                              10: nyc_metro_headers16[10]})\n",
    "nyc_metro_data15 = nyc_metro_data15.rename(columns={0: nyc_metro_headers15[0],\n",
    "                                              1: nyc_metro_headers15[1],\n",
    "                                              2: nyc_metro_headers15[2],\n",
    "                                              3: nyc_metro_headers15[3],\n",
    "                                              4: nyc_metro_headers15[4],\n",
    "                                              5: nyc_metro_headers15[5],\n",
    "                                              6: nyc_metro_headers15[6],\n",
    "                                              7: nyc_metro_headers15[7],\n",
    "                                              8: nyc_metro_headers15[8],\n",
    "                                              9: nyc_metro_headers15[9],\n",
    "                                              10: nyc_metro_headers15[10]})\n",
    "#nyc_metro_data2.head()\n",
    "#nyc_metro_data15.head()\n",
    "nyc_metro_data17['million'] = pd.to_numeric(nyc_metro_data17['million'], errors='coerce')\n",
    "nyc_total_rider17 = nyc_metro_data17['million'].sum() * 1000000\n",
    "nyc_opp_cost17 = nyc_budg / (nyc_track_length * nyc_total_rider17)\n",
    "nyc_metro_data16['million'] = pd.to_numeric(nyc_metro_data16['million'], errors='coerce')\n",
    "nyc_total_rider16 = nyc_metro_data16['million'].sum() * 1000000\n",
    "nyc_opp_cost16 = nyc_budg / (nyc_track_length * nyc_total_rider16)\n",
    "nyc_metro_data15['million'] = pd.to_numeric(nyc_metro_data15['million'], errors='coerce')\n",
    "nyc_total_rider15 = nyc_metro_data15['million'].sum() * 1000000\n",
    "nyc_opp_cost15 = nyc_budg / (nyc_track_length * nyc_total_rider15)\n",
    "#print(nyc_total_rider)\n",
    "nyc_station_total = len(nyc_metro_data.stop_name.value_counts())\n",
    "nyc_line_total = len(nyc_metro_data2.Line.value_counts())\n",
    "print(f'The NYC subway has {nyc_station_total} stations.')\n",
    "print(f'The NYC subway has {nyc_line_total} lines.')\n",
    "print(f'The NYC subway has {nyc_track_length} miles of track.')\n",
    "print(f'The NYC subway has an average fare of ${nyc_avg_fare}.')\n",
    "print(f'The NYC subway has an annual ridership of {nyc_total_rider17} riders.')\n",
    "print(f'The NYC subway has an annual ridership of {nyc_total_rider16} riders.')\n",
    "print(f'The NYC subway has an annual ridership of {nyc_total_rider15} riders.')\n",
    "print(f'The NYC subway had a cost per mile per customer of ${nyc_opp_cost17} in 2017.')\n",
    "print(f'The NYC subway had a cost per mile per customer of ${nyc_opp_cost16} in 2016.')\n",
    "print(f'The NYC subway had a cost per mile per customer of ${nyc_opp_cost15} in 2015.')"
   ]
  },
  {
   "cell_type": "code",
   "execution_count": 5,
   "metadata": {},
   "outputs": [],
   "source": [
    "#London tube data\n",
    "#call api for data\n",
    "tube_station_url = \"https://api.tfl.gov.uk/Stoppoint/940GZZLUCHX/FareTo/940GZZLUBST\"\n",
    "tube_station_data = requests.get(tube_station_url).json()\n",
    "#pprint(tube_station_data)"
   ]
  }
 ],
 "metadata": {
  "kernelspec": {
   "display_name": "Python 3",
   "language": "python",
   "name": "python3"
  },
  "language_info": {
   "codemirror_mode": {
    "name": "ipython",
    "version": 3
   },
   "file_extension": ".py",
   "mimetype": "text/x-python",
   "name": "python",
   "nbconvert_exporter": "python",
   "pygments_lexer": "ipython3",
   "version": "3.7.3"
  }
 },
 "nbformat": 4,
 "nbformat_minor": 2
}
