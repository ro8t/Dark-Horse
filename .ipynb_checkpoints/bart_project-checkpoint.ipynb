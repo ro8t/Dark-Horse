{
 "cells": [
  {
   "cell_type": "code",
   "execution_count": 2,
   "metadata": {},
   "outputs": [],
   "source": [
    "# Make BART Great Again\n",
    "# Dependencies\n",
    "import os\n",
    "import csv\n",
    "import pandas as pd\n",
    "import json\n",
    "import requests\n",
    "from pprint import pprint"
   ]
  },
  {
   "cell_type": "code",
   "execution_count": 31,
   "metadata": {},
   "outputs": [
    {
     "name": "stdout",
     "output_type": "stream",
     "text": [
      "BART has 45 stations.\n"
     ]
    }
   ],
   "source": [
    "# 2015 BART station data\n",
    "bart_station_api_url = 'https://data.bart.gov/api/3/action/datastore_search'\n",
    "all_stations = '?resource_id=48bee8d8-6106-4215-a937-31d71ee09f0c'\n",
    "limit_search = '&limit=5'\n",
    "bart_station_json = requests.get(bart_station_api_url + all_stations).json()\n",
    "num_bart_stations = len(bart_station_json['result']['records'])\n",
    "print(f'BART has {num_bart_stations} stations.')"
   ]
  },
  {
   "cell_type": "code",
   "execution_count": 45,
   "metadata": {},
   "outputs": [
    {
     "name": "stdout",
     "output_type": "stream",
     "text": [
      "Sao Paulo metro has 79 stations and a total of 6 lines.\n",
      "Sao Paulo metro lines: [\"['azul']\", \"['vermelha']\", \"['lilas']\", \"['verde']\", \"['amarela']\", \"['prata']\"]\n"
     ]
    }
   ],
   "source": [
    "# Sao Paulo metro data\n",
    "# Bring csv data into pandas dataframe\n",
    "sp_metro_file = os.path.join('sao-paulo-metro-data', 'metrosp_stations_v2.csv')\n",
    "with open(sp_metro_file, newline='') as metro_holder:\n",
    "    sp_metro = csv.reader(metro_holder, delimiter=',')\n",
    "    sp_metro_headers = next(sp_metro)\n",
    "    sp_metro_data = pd.DataFrame([row for row in sp_metro])\n",
    "\n",
    "# Clean sp metro data\n",
    "sp_metro_data = sp_metro_data.rename(columns={0: sp_metro_headers[0],\n",
    "                                              1: sp_metro_headers[1],\n",
    "                                              2: sp_metro_headers[2],\n",
    "                                              3: sp_metro_headers[3],\n",
    "                                              4: sp_metro_headers[4],\n",
    "                                              5: sp_metro_headers[5]})\n",
    "sp_metro_data = sp_metro_data.drop(columns=['', 'station', 'lat', 'lon'])\n",
    "\n",
    "num_sp_stations = len(sp_metro_data['name'])\n",
    "\n",
    "sp_lines = list(sp_metro_data['line'].value_counts().index[:6])\n",
    "num_sp_lines = len(sp_lines)\n",
    "\n",
    "print(f'Sao Paulo metro has {num_sp_stations} stations and a total of {num_sp_lines} lines.')\n",
    "print(f'Sao Paulo metro lines: {sp_lines}')"
   ]
  },
  {
   "cell_type": "code",
   "execution_count": null,
   "metadata": {},
   "outputs": [],
   "source": []
  }
 ],
 "metadata": {
  "kernelspec": {
   "display_name": "Python 3",
   "language": "python",
   "name": "python3"
  },
  "language_info": {
   "codemirror_mode": {
    "name": "ipython",
    "version": 3
   },
   "file_extension": ".py",
   "mimetype": "text/x-python",
   "name": "python",
   "nbconvert_exporter": "python",
   "pygments_lexer": "ipython3",
   "version": "3.7.3"
  }
 },
 "nbformat": 4,
 "nbformat_minor": 2
}
