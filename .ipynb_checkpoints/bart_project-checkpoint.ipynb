{
 "cells": [
  {
   "cell_type": "code",
   "execution_count": 1,
   "metadata": {},
   "outputs": [],
   "source": [
    "# Make BART Great (for once)\n",
    "# Dependencies\n",
    "import os\n",
    "import csv\n",
    "import pandas as pd\n",
    "import json\n",
    "import requests\n",
    "from pprint import pprint\n",
    "# Personal dependencies\n",
    "from config import nyc_track_length, nyc_avg_fare, nyc_budg"
   ]
  },
  {
   "cell_type": "code",
   "execution_count": 2,
   "metadata": {},
   "outputs": [
    {
     "name": "stdout",
     "output_type": "stream",
     "text": [
      "BART has 45 stations.\n"
     ]
    }
   ],
   "source": [
    "# 2015 BART station data\n",
    "bart_station_api_url = 'https://data.bart.gov/api/3/action/datastore_search'\n",
    "all_stations = '?resource_id=48bee8d8-6106-4215-a937-31d71ee09f0c'\n",
    "limit_search = '&limit=5'\n",
    "bart_station_json = requests.get(bart_station_api_url + all_stations).json()\n",
    "num_bart_stations = len(bart_station_json['result']['records'])\n",
    "print(f'BART has {num_bart_stations} stations.')"
   ]
  },
  {
   "cell_type": "code",
   "execution_count": 3,
   "metadata": {},
   "outputs": [
    {
     "name": "stdout",
     "output_type": "stream",
     "text": [
      "Sao Paulo metro has 79 stations and a total of 6 lines.\n",
      "Sao Paulo metro lines: [\"['azul']\", \"['vermelha']\", \"['lilas']\", \"['verde']\", \"['amarela']\", \"['prata']\"]\n",
      "Sao Paulo metro costs: $1.22\n"
     ]
    }
   ],
   "source": [
    "# Sao Paulo metro data\n",
    "# Bring csv data into pandas dataframe\n",
    "sp_metro_file = os.path.join('sao-paulo-metro-data', 'metrosp_stations_v2.csv')\n",
    "with open(sp_metro_file, newline='') as metro_holder:\n",
    "    sp_metro = csv.reader(metro_holder, delimiter=',')\n",
    "    sp_metro_headers = next(sp_metro)\n",
    "    sp_metro_data = pd.DataFrame([row for row in sp_metro])\n",
    "\n",
    "# Clean sp metro data\n",
    "sp_metro_data = sp_metro_data.rename(columns={0: sp_metro_headers[0],\n",
    "                                              1: sp_metro_headers[1],\n",
    "                                              2: sp_metro_headers[2],\n",
    "                                              3: sp_metro_headers[3],\n",
    "                                              4: sp_metro_headers[4],\n",
    "                                              5: sp_metro_headers[5]})\n",
    "sp_metro_data = sp_metro_data.drop(columns=['', 'station', 'lat', 'lon'])\n",
    "\n",
    "num_sp_stations = len(sp_metro_data['name'])\n",
    "\n",
    "sp_lines = list(sp_metro_data['line'].value_counts().index[:6])\n",
    "num_sp_lines = len(sp_lines)\n",
    "sp_metro_cost = 1.22\n",
    "\n",
    "print(f'Sao Paulo metro has {num_sp_stations} stations and a total of {num_sp_lines} lines.')\n",
    "print(f'Sao Paulo metro lines: {sp_lines}')\n",
    "print(f'Sao Paulo metro costs: ${sp_metro_cost}')"
   ]
  },
  {
   "cell_type": "code",
   "execution_count": 4,
   "metadata": {},
   "outputs": [
    {
     "name": "stdout",
     "output_type": "stream",
     "text": [
      "The NYC subway has 380 stations.\n"
     ]
    }
   ],
   "source": [
    "#NYC subway data\n",
    "#bring csv into pandas dataframe\n",
    "nyc_metro_file = os.path.join('nyc-metro-data', 'stops.csv')\n",
    "with open(nyc_metro_file, newline='') as metro_holder:\n",
    "    nyc_metro = csv.reader(metro_holder, delimiter=',')\n",
    "    nyc_metro_headers = next(nyc_metro)\n",
    "    nyc_metro_data = pd.DataFrame([row for row in nyc_metro])\n",
    "#cleaning nyc data\n",
    "nyc_metro_data = nyc_metro_data.rename(columns={0: nyc_metro_headers[0],\n",
    "                                              1: nyc_metro_headers[1],\n",
    "                                              2: nyc_metro_headers[2],\n",
    "                                              3: nyc_metro_headers[3],\n",
    "                                              4: nyc_metro_headers[4],\n",
    "                                              5: nyc_metro_headers[5],\n",
    "                                              6: nyc_metro_headers[6],\n",
    "                                              7: nyc_metro_headers[7],\n",
    "                                              8: nyc_metro_headers[8],\n",
    "                                              9: nyc_metro_headers[9]})\n",
    "nyc_metro_data = nyc_metro_data.drop(columns=['stop_code', 'stop_desc', 'zone_id', 'stop_url'])\n",
    "#nyc_metro_data.head()\n",
    "nyc_station_total = len(nyc_metro_data.stop_name.value_counts())\n",
    "print(f'The NYC subway has {nyc_station_total} stations.')"
   ]
  },
  {
   "cell_type": "code",
   "execution_count": 5,
   "metadata": {},
   "outputs": [
    {
     "data": {
      "text/plain": [
       "'#London tube data\\n#call api for data\\ntube_station_url = \"https://api.tfl.gov.uk/Stoppoint/940GZZLUCHX/FareTo/940GZZLUBST\"\\ntube_station_data = requests.get(tube_station_url).json()\\npprint(tube_station_data)'"
      ]
     },
     "execution_count": 5,
     "metadata": {},
     "output_type": "execute_result"
    }
   ],
   "source": [
    "'''#London tube data\n",
    "#call api for data\n",
    "tube_station_url = \"https://api.tfl.gov.uk/Stoppoint/940GZZLUCHX/FareTo/940GZZLUBST\"\n",
    "tube_station_data = requests.get(tube_station_url).json()\n",
    "pprint(tube_station_data)'''"
   ]
  },
  {
   "cell_type": "code",
   "execution_count": 6,
   "metadata": {},
   "outputs": [
    {
     "data": {
      "text/html": [
       "<div>\n",
       "<style scoped>\n",
       "    .dataframe tbody tr th:only-of-type {\n",
       "        vertical-align: middle;\n",
       "    }\n",
       "\n",
       "    .dataframe tbody tr th {\n",
       "        vertical-align: top;\n",
       "    }\n",
       "\n",
       "    .dataframe thead th {\n",
       "        text-align: right;\n",
       "    }\n",
       "</style>\n",
       "<table border=\"1\" class=\"dataframe\">\n",
       "  <thead>\n",
       "    <tr style=\"text-align: right;\">\n",
       "      <th></th>\n",
       "      <th>London Underground</th>\n",
       "      <th>2014/15</th>\n",
       "      <th>2015/16</th>\n",
       "      <th>2016/17</th>\n",
       "      <th>2017/18</th>\n",
       "      <th>2018/19</th>\n",
       "    </tr>\n",
       "  </thead>\n",
       "  <tbody>\n",
       "    <tr>\n",
       "      <th>0</th>\n",
       "      <td>Passenger journeys (millions)</td>\n",
       "      <td>1305.0</td>\n",
       "      <td>1349.0</td>\n",
       "      <td>1378.0</td>\n",
       "      <td>1357.0</td>\n",
       "      <td>1384.0</td>\n",
       "    </tr>\n",
       "    <tr>\n",
       "      <th>1</th>\n",
       "      <td>Kilometres operated (millions)</td>\n",
       "      <td>80.3</td>\n",
       "      <td>82.5</td>\n",
       "      <td>83.7</td>\n",
       "      <td>84.4</td>\n",
       "      <td>85.0</td>\n",
       "    </tr>\n",
       "    <tr>\n",
       "      <th>2</th>\n",
       "      <td>Schedule operated (%)</td>\n",
       "      <td>97.6</td>\n",
       "      <td>97.0</td>\n",
       "      <td>96.9</td>\n",
       "      <td>96.6</td>\n",
       "      <td>96.8</td>\n",
       "    </tr>\n",
       "    <tr>\n",
       "      <th>3</th>\n",
       "      <td>Excess journey time (weighted) (minutes)</td>\n",
       "      <td>4.6</td>\n",
       "      <td>4.6</td>\n",
       "      <td>4.7</td>\n",
       "      <td>4.6</td>\n",
       "      <td>4.6</td>\n",
       "    </tr>\n",
       "    <tr>\n",
       "      <th>4</th>\n",
       "      <td>Customer satisfaction (score)</td>\n",
       "      <td>84.0</td>\n",
       "      <td>85.0</td>\n",
       "      <td>85.0</td>\n",
       "      <td>85.0</td>\n",
       "      <td>84.0</td>\n",
       "    </tr>\n",
       "    <tr>\n",
       "      <th>5</th>\n",
       "      <td>Lost customer hours (millions)</td>\n",
       "      <td>22.7</td>\n",
       "      <td>26.5</td>\n",
       "      <td>26.1</td>\n",
       "      <td>23.9</td>\n",
       "      <td>24.6</td>\n",
       "    </tr>\n",
       "  </tbody>\n",
       "</table>\n",
       "</div>"
      ],
      "text/plain": [
       "                         London Underground  2014/15  2015/16  2016/17  \\\n",
       "0             Passenger journeys (millions)   1305.0   1349.0   1378.0   \n",
       "1            Kilometres operated (millions)     80.3     82.5     83.7   \n",
       "2                     Schedule operated (%)     97.6     97.0     96.9   \n",
       "3  Excess journey time (weighted) (minutes)      4.6      4.6      4.7   \n",
       "4             Customer satisfaction (score)     84.0     85.0     85.0   \n",
       "5            Lost customer hours (millions)     22.7     26.5     26.1   \n",
       "\n",
       "   2017/18  2018/19  \n",
       "0   1357.0   1384.0  \n",
       "1     84.4     85.0  \n",
       "2     96.6     96.8  \n",
       "3      4.6      4.6  \n",
       "4     85.0     84.0  \n",
       "5     23.9     24.6  "
      ]
     },
     "execution_count": 6,
     "metadata": {},
     "output_type": "execute_result"
    }
   ],
   "source": [
    "# TFL (transport for london) data\n",
    "# Operational performance measures for london tube\n",
    "london_tube_op_metrics = pd.DataFrame(\n",
    "                        {\"London Underground\": [\"Passenger journeys (millions)\", \"Kilometres operated (millions)\",\n",
    "                                                \"Schedule operated (%)\", \"Excess journey time (weighted) (minutes)\",\n",
    "                                                \"Customer satisfaction (score)\", \"Lost customer hours (millions)\"],\n",
    "                         \"2014/15\": [1305, 80.3, 97.6, 4.6, 84, 22.7],\n",
    "                         \"2015/16\": [1349, 82.5, 97.0, 4.6, 85, 26.5],\n",
    "                         \"2016/17\": [1378, 83.7, 96.9, 4.7, 85, 26.1],\n",
    "                         \"2017/18\": [1357, 84.4, 96.6, 4.6, 85, 23.9],\n",
    "                         \"2018/19\": [1384, 85.0, 96.8, 4.6, 84, 24.6]})\n",
    "london_tube_op_metrics"
   ]
  },
  {
   "cell_type": "code",
   "execution_count": 7,
   "metadata": {},
   "outputs": [
    {
     "data": {
      "text/html": [
       "<div>\n",
       "<style scoped>\n",
       "    .dataframe tbody tr th:only-of-type {\n",
       "        vertical-align: middle;\n",
       "    }\n",
       "\n",
       "    .dataframe tbody tr th {\n",
       "        vertical-align: top;\n",
       "    }\n",
       "\n",
       "    .dataframe thead th {\n",
       "        text-align: right;\n",
       "    }\n",
       "</style>\n",
       "<table border=\"1\" class=\"dataframe\">\n",
       "  <thead>\n",
       "    <tr style=\"text-align: right;\">\n",
       "      <th></th>\n",
       "      <th>Zones Traveled</th>\n",
       "      <th>Single Journey Ticket Adult</th>\n",
       "      <th>Single Journey Ticket Child</th>\n",
       "      <th>Oyster Card Peak</th>\n",
       "      <th>Oyster Card Off Peak</th>\n",
       "    </tr>\n",
       "  </thead>\n",
       "  <tbody>\n",
       "    <tr>\n",
       "      <th>0</th>\n",
       "      <td>Zone 1</td>\n",
       "      <td>6.03</td>\n",
       "      <td>2.95</td>\n",
       "      <td>2.95</td>\n",
       "      <td>2.95</td>\n",
       "    </tr>\n",
       "    <tr>\n",
       "      <th>1</th>\n",
       "      <td>Zone 1 &amp; 2</td>\n",
       "      <td>6.03</td>\n",
       "      <td>2.95</td>\n",
       "      <td>3.57</td>\n",
       "      <td>2.95</td>\n",
       "    </tr>\n",
       "    <tr>\n",
       "      <th>2</th>\n",
       "      <td>Zone 1 To 3</td>\n",
       "      <td>6.03</td>\n",
       "      <td>2.95</td>\n",
       "      <td>4.06</td>\n",
       "      <td>3.44</td>\n",
       "    </tr>\n",
       "    <tr>\n",
       "      <th>3</th>\n",
       "      <td>Zone 1 To 4</td>\n",
       "      <td>7.26</td>\n",
       "      <td>3.57</td>\n",
       "      <td>4.80</td>\n",
       "      <td>3.44</td>\n",
       "    </tr>\n",
       "    <tr>\n",
       "      <th>4</th>\n",
       "      <td>Zone 1 To 5</td>\n",
       "      <td>7.26</td>\n",
       "      <td>3.57</td>\n",
       "      <td>5.78</td>\n",
       "      <td>3.81</td>\n",
       "    </tr>\n",
       "    <tr>\n",
       "      <th>5</th>\n",
       "      <td>Zone 1 To 6</td>\n",
       "      <td>7.38</td>\n",
       "      <td>3.69</td>\n",
       "      <td>6.27</td>\n",
       "      <td>3.81</td>\n",
       "    </tr>\n",
       "    <tr>\n",
       "      <th>6</th>\n",
       "      <td>Zone 2 To 6</td>\n",
       "      <td>7.26</td>\n",
       "      <td>3.57</td>\n",
       "      <td>5.41</td>\n",
       "      <td>3.69</td>\n",
       "    </tr>\n",
       "  </tbody>\n",
       "</table>\n",
       "</div>"
      ],
      "text/plain": [
       "  Zones Traveled  Single Journey Ticket Adult  Single Journey Ticket Child  \\\n",
       "0         Zone 1                         6.03                         2.95   \n",
       "1     Zone 1 & 2                         6.03                         2.95   \n",
       "2    Zone 1 To 3                         6.03                         2.95   \n",
       "3    Zone 1 To 4                         7.26                         3.57   \n",
       "4    Zone 1 To 5                         7.26                         3.57   \n",
       "5    Zone 1 To 6                         7.38                         3.69   \n",
       "6    Zone 2 To 6                         7.26                         3.57   \n",
       "\n",
       "   Oyster Card Peak  Oyster Card Off Peak  \n",
       "0              2.95                  2.95  \n",
       "1              3.57                  2.95  \n",
       "2              4.06                  3.44  \n",
       "3              4.80                  3.44  \n",
       "4              5.78                  3.81  \n",
       "5              6.27                  3.81  \n",
       "6              5.41                  3.69  "
      ]
     },
     "execution_count": 7,
     "metadata": {},
     "output_type": "execute_result"
    }
   ],
   "source": [
    "# London tube fares 2019\n",
    "tube_fares_2019 = {\"Zones Traveled\": [\"Zone 1\", \"Zone 1 & 2\", \"Zone 1 To 3\", \"Zone 1 To 4\", \n",
    "                                    \"Zone 1 To 5\", \"Zone 1 To 6\", \"Zone 2 To 6\"],\n",
    "                 \"Single Journey Ticket Adult\": [4.90, 4.90, 4.90, 5.90, 5.90, 6.00, 5.90],\n",
    "                 \"Single Journey Ticket Child\": [2.40, 2.40, 2.40, 2.90, 2.90, 3.00, 2.90],\n",
    "                 \"Oyster Card Peak\": [2.40, 2.90, 3.30, 3.90, 4.70, 5.10, 4.40],\n",
    "                 \"Oyster Card Off Peak\": [2.40, 2.40, 2.80, 2.80, 3.10, 3.10, 3.00]}\n",
    "\n",
    "def poundToDollar(pound):\n",
    "    dollar = pound * 1.23\n",
    "    return round(dollar, 2)\n",
    "\n",
    "for d in range(0, len(tube_fares_2019[\"Single Journey Ticket Adult\"])):\n",
    "    tube_fares_2019[\"Single Journey Ticket Adult\"][d] = poundToDollar(tube_fares_2019[\"Single Journey Ticket Adult\"][d])\n",
    "\n",
    "for d in range(0, len(tube_fares_2019[\"Single Journey Ticket Child\"])):\n",
    "    tube_fares_2019[\"Single Journey Ticket Child\"][d] = poundToDollar(tube_fares_2019[\"Single Journey Ticket Child\"][d])\n",
    "\n",
    "for d in range(0, len(tube_fares_2019[\"Oyster Card Peak\"])):\n",
    "    tube_fares_2019[\"Oyster Card Peak\"][d] = poundToDollar(tube_fares_2019[\"Oyster Card Peak\"][d])\n",
    "\n",
    "for d in range(0, len(tube_fares_2019[\"Oyster Card Off Peak\"])):\n",
    "    tube_fares_2019[\"Oyster Card Off Peak\"][d] = poundToDollar(tube_fares_2019[\"Oyster Card Off Peak\"][d])\n",
    "\n",
    "tube_fares_2019 = pd.DataFrame(tube_fares_2019)\n",
    "tube_fares_2019"
   ]
  },
  {
   "cell_type": "code",
   "execution_count": 8,
   "metadata": {},
   "outputs": [
    {
     "name": "stdout",
     "output_type": "stream",
     "text": [
      "The total 2015 traffic in the london tube was 2925569154.0\n"
     ]
    }
   ],
   "source": [
    "tube_dat15 = 'tube-data/2015 Entry & Exit.csv'\n",
    "tube15_data = pd.read_csv(tube_dat15)\n",
    "\n",
    "traffic15 = round(sum(tube15_data['Entry + Exit (Millions)'] * 1000000), 0)\n",
    "print(f'The total 2015 traffic in the london tube was {traffic15}')"
   ]
  },
  {
   "cell_type": "code",
   "execution_count": 9,
   "metadata": {},
   "outputs": [
    {
     "name": "stdout",
     "output_type": "stream",
     "text": [
      "The London Tube has 268 stations.\n",
      "The London Tube has 11 lines.\n"
     ]
    }
   ],
   "source": [
    "tube_station_count = len(tube15_data[\"Station\"])\n",
    "print(f'The London Tube has {tube_station_count} stations.')\n",
    "\n",
    "tube_lines = ['Bakerloo', 'Central', 'Circle', 'District', 'Hammersmith & City', 'Jubilee',\n",
    "              'Metropolitan', 'Northern', 'Piccadilly', 'Victoria', 'Waterloo & City']\n",
    "tube_line_count = len(tube_lines)\n",
    "print(f'The London Tube has {tube_line_count} lines.')"
   ]
  },
  {
   "cell_type": "code",
   "execution_count": 10,
   "metadata": {},
   "outputs": [
    {
     "name": "stdout",
     "output_type": "stream",
     "text": [
      "The total 2016 traffic in the london tube was 2985860000.0\n"
     ]
    }
   ],
   "source": [
    "tube_dat16 = 'tube-data/2016 Entry & Exit.csv'\n",
    "tube16_data = pd.read_csv(tube_dat16)\n",
    "\n",
    "traffic16 = round(sum(tube16_data['Entry + Exit (Millions)'] * 1000000), 0)\n",
    "print(f'The total 2016 traffic in the london tube was {traffic16}')"
   ]
  },
  {
   "cell_type": "code",
   "execution_count": 11,
   "metadata": {},
   "outputs": [
    {
     "name": "stdout",
     "output_type": "stream",
     "text": [
      "The total 2017 traffic in the london tube was 2945940000.0\n"
     ]
    }
   ],
   "source": [
    "tube_dat17 = 'tube-data/2017 Entry & Exit.csv'\n",
    "tube17_data = pd.read_csv(tube_dat17)\n",
    "\n",
    "traffic17 = round(sum(tube17_data['Entry + Exit (Millions)'] * 1000000), 0)\n",
    "print(f'The total 2017 traffic in the london tube was {traffic17}')"
   ]
  },
  {
   "cell_type": "code",
   "execution_count": 12,
   "metadata": {},
   "outputs": [
    {
     "data": {
      "text/plain": [
       "[2925569154.0, 2985860000.0, 2945940000.0]"
      ]
     },
     "execution_count": 12,
     "metadata": {},
     "output_type": "execute_result"
    }
   ],
   "source": [
    "# Total station traffic \n",
    "tube_station_traffic = [traffic15, traffic16, traffic17]\n",
    "tube_station_traffic"
   ]
  },
  {
   "cell_type": "code",
   "execution_count": 13,
   "metadata": {},
   "outputs": [
    {
     "data": {
      "text/plain": [
       "0.00019730544410273123"
      ]
     },
     "execution_count": 13,
     "metadata": {},
     "output_type": "execute_result"
    }
   ],
   "source": [
    "# Op cost per passenger per mile\n",
    "op_cost_per_mile17 = 9.30\n",
    "tube_track_length = 250\n",
    "op_cost17 = op_cost_per_mile17 * tube_track_length\n",
    "op_cost_per_pas_per_mile17 = (op_cost17 / traffic17) * tube_track_length\n",
    "op_cost_per_pas_per_mile17"
   ]
  },
  {
   "cell_type": "code",
   "execution_count": 14,
   "metadata": {},
   "outputs": [
    {
     "name": "stdout",
     "output_type": "stream",
     "text": [
      "The NYC subway has 380 stations.\n",
      "The NYC subway has 36 lines.\n",
      "The NYC subway has 660.75 miles of track.\n",
      "The NYC subway has an average fare of $2.75.\n",
      "The NYC subway has an annual ridership of 353102740000.0 riders.\n",
      "The NYC subway has an annual ridership of 2985859999.9999995 riders.\n",
      "The NYC subway has an annual ridership of 2925569154.0000005 riders.\n",
      "The NYC subway had a cost per mile per customer of $6.857751175283427e-05 in 2017.\n",
      "The NYC subway had a cost per mile per customer of $0.008109860242043495 in 2016.\n",
      "The NYC subway had a cost per mile per customer of $0.008276990229132003 in 2015.\n"
     ]
    }
   ],
   "source": [
    "#NYC subway data\n",
    "#bring csvs into pandas dataframes\n",
    "nyc_metro_file = os.path.join('nyc-metro-data', 'stops.csv')\n",
    "with open(nyc_metro_file, newline='') as metro_holder:\n",
    "    nyc_metro = csv.reader(metro_holder, delimiter=',')\n",
    "    nyc_metro_headers = next(nyc_metro)\n",
    "    nyc_metro_data = pd.DataFrame([row for row in nyc_metro])\n",
    "nyc_metro_file2 = os.path.join('nyc-metro-data', 'nyc-transit-subway-entrance-and-exit-data.csv')\n",
    "with open(nyc_metro_file2, newline='') as metro_holder2:\n",
    "    nyc_metro2 = csv.reader(metro_holder2, delimiter=',')\n",
    "    nyc_metro_headers2 = next(nyc_metro2)\n",
    "    nyc_metro_data2 = pd.DataFrame([row for row in nyc_metro2])\n",
    "nyc_metro_file17 = os.path.join('nyc-metro-data', '2017-station-entry-and-exit-figures.csv')\n",
    "with open(nyc_metro_file17, newline='') as metro_holder17:\n",
    "    nyc_metro17 = csv.reader(metro_holder17, delimiter=',')\n",
    "    nyc_metro_headers17 = next(nyc_metro17)\n",
    "    nyc_metro_data17 = pd.DataFrame([row for row in nyc_metro17])\n",
    "nyc_metro_file16 = os.path.join('nyc-metro-data', '2016-station-entry-and-exit-figures.csv')\n",
    "with open(nyc_metro_file16, newline='') as metro_holder16:\n",
    "    nyc_metro16 = csv.reader(metro_holder16, delimiter=',')\n",
    "    nyc_metro_headers16 = next(nyc_metro16)\n",
    "    nyc_metro_data16 = pd.DataFrame([row for row in nyc_metro16])\n",
    "nyc_metro_file15 = os.path.join('nyc-metro-data', '2015-station-entry-and-exit-figures.csv')\n",
    "with open(nyc_metro_file15, newline='') as metro_holder15:\n",
    "    nyc_metro15 = csv.reader(metro_holder15, delimiter=',')\n",
    "    nyc_metro_headers15 = next(nyc_metro15)\n",
    "    nyc_metro_data15 = pd.DataFrame([row for row in nyc_metro15])\n",
    "#cleaning nyc data\n",
    "nyc_metro_data = nyc_metro_data.rename(columns={0: nyc_metro_headers[0],\n",
    "                                              1: nyc_metro_headers[1],\n",
    "                                              2: nyc_metro_headers[2],\n",
    "                                              3: nyc_metro_headers[3],\n",
    "                                              4: nyc_metro_headers[4],\n",
    "                                              5: nyc_metro_headers[5],\n",
    "                                              6: nyc_metro_headers[6],\n",
    "                                              7: nyc_metro_headers[7],\n",
    "                                              8: nyc_metro_headers[8],\n",
    "                                              9: nyc_metro_headers[9]})\n",
    "nyc_metro_data2 = nyc_metro_data2[[0, 1, 2, 3, 4]]\n",
    "nyc_metro_data2 = nyc_metro_data2.rename(columns={0: nyc_metro_headers2[0],\n",
    "                                              1: nyc_metro_headers2[1],\n",
    "                                              2: nyc_metro_headers2[2],\n",
    "                                              3: nyc_metro_headers2[3],\n",
    "                                              4: nyc_metro_headers2[4]})\n",
    "nyc_metro_data = nyc_metro_data.drop(columns=['stop_code', 'stop_desc', 'zone_id', 'stop_url'])\n",
    "nyc_metro_data17 = nyc_metro_data17.rename(columns={0: nyc_metro_headers17[0],\n",
    "                                              1: nyc_metro_headers17[1],\n",
    "                                              2: nyc_metro_headers17[2],\n",
    "                                              3: nyc_metro_headers17[3],\n",
    "                                              4: nyc_metro_headers17[4],\n",
    "                                              5: nyc_metro_headers17[5],\n",
    "                                              6: nyc_metro_headers17[6],\n",
    "                                              7: nyc_metro_headers17[7],\n",
    "                                              8: nyc_metro_headers17[8],\n",
    "                                              9: nyc_metro_headers17[9],\n",
    "                                              10: nyc_metro_headers17[10]})\n",
    "nyc_metro_data16 = nyc_metro_data16.rename(columns={0: nyc_metro_headers16[0],\n",
    "                                              1: nyc_metro_headers16[1],\n",
    "                                              2: nyc_metro_headers16[2],\n",
    "                                              3: nyc_metro_headers16[3],\n",
    "                                              4: nyc_metro_headers16[4],\n",
    "                                              5: nyc_metro_headers16[5],\n",
    "                                              6: nyc_metro_headers16[6],\n",
    "                                              7: nyc_metro_headers16[7],\n",
    "                                              8: nyc_metro_headers16[8],\n",
    "                                              9: nyc_metro_headers16[9],\n",
    "                                              10: nyc_metro_headers16[10]})\n",
    "nyc_metro_data15 = nyc_metro_data15.rename(columns={0: nyc_metro_headers15[0],\n",
    "                                              1: nyc_metro_headers15[1],\n",
    "                                              2: nyc_metro_headers15[2],\n",
    "                                              3: nyc_metro_headers15[3],\n",
    "                                              4: nyc_metro_headers15[4],\n",
    "                                              5: nyc_metro_headers15[5],\n",
    "                                              6: nyc_metro_headers15[6],\n",
    "                                              7: nyc_metro_headers15[7],\n",
    "                                              8: nyc_metro_headers15[8],\n",
    "                                              9: nyc_metro_headers15[9],\n",
    "                                              10: nyc_metro_headers15[10]})\n",
    "#nyc_metro_data2.head()\n",
    "#nyc_metro_data15.head()\n",
    "nyc_metro_data17['million'] = pd.to_numeric(nyc_metro_data17['million'], errors='coerce')\n",
    "nyc_total_rider17 = nyc_metro_data17['million'].sum() * 1000000\n",
    "nyc_opp_cost17 = nyc_budg / (nyc_track_length * nyc_total_rider17)\n",
    "nyc_metro_data16['million'] = pd.to_numeric(nyc_metro_data16['million'], errors='coerce')\n",
    "nyc_total_rider16 = nyc_metro_data16['million'].sum() * 1000000\n",
    "nyc_opp_cost16 = nyc_budg / (nyc_track_length * nyc_total_rider16)\n",
    "nyc_metro_data15['million'] = pd.to_numeric(nyc_metro_data15['million'], errors='coerce')\n",
    "nyc_total_rider15 = nyc_metro_data15['million'].sum() * 1000000\n",
    "nyc_opp_cost15 = nyc_budg / (nyc_track_length * nyc_total_rider15)\n",
    "#print(nyc_total_rider)\n",
    "nyc_station_total = len(nyc_metro_data.stop_name.value_counts())\n",
    "nyc_line_total = len(nyc_metro_data2.Line.value_counts())\n",
    "print(f'The NYC subway has {nyc_station_total} stations.')\n",
    "print(f'The NYC subway has {nyc_line_total} lines.')\n",
    "print(f'The NYC subway has {nyc_track_length} miles of track.')\n",
    "print(f'The NYC subway has an average fare of ${nyc_avg_fare}.')\n",
    "print(f'The NYC subway has an annual ridership of {nyc_total_rider17} riders.')\n",
    "print(f'The NYC subway has an annual ridership of {nyc_total_rider16} riders.')\n",
    "print(f'The NYC subway has an annual ridership of {nyc_total_rider15} riders.')\n",
    "print(f'The NYC subway had a cost per mile per customer of ${nyc_opp_cost17} in 2017.')\n",
    "print(f'The NYC subway had a cost per mile per customer of ${nyc_opp_cost16} in 2016.')\n",
    "print(f'The NYC subway had a cost per mile per customer of ${nyc_opp_cost15} in 2015.')"
   ]
  },
  {
   "cell_type": "code",
   "execution_count": 15,
   "metadata": {},
   "outputs": [
    {
     "data": {
      "text/html": [
       "<div>\n",
       "<style scoped>\n",
       "    .dataframe tbody tr th:only-of-type {\n",
       "        vertical-align: middle;\n",
       "    }\n",
       "\n",
       "    .dataframe tbody tr th {\n",
       "        vertical-align: top;\n",
       "    }\n",
       "\n",
       "    .dataframe thead th {\n",
       "        text-align: right;\n",
       "    }\n",
       "</style>\n",
       "<table border=\"1\" class=\"dataframe\">\n",
       "  <thead>\n",
       "    <tr style=\"text-align: right;\">\n",
       "      <th></th>\n",
       "      <th>Case Origin</th>\n",
       "      <th>Type</th>\n",
       "      <th>Category</th>\n",
       "      <th>Sub-Category</th>\n",
       "      <th>Station</th>\n",
       "      <th>Date/Time Opened</th>\n",
       "      <th>Date/Time Closed</th>\n",
       "      <th>Age (Days)</th>\n",
       "    </tr>\n",
       "  </thead>\n",
       "  <tbody>\n",
       "    <tr>\n",
       "      <th>0</th>\n",
       "      <td>Website</td>\n",
       "      <td>Complaint</td>\n",
       "      <td>Police</td>\n",
       "      <td>Lack of Presence - STA</td>\n",
       "      <td>M30 - Powell St. (SF)</td>\n",
       "      <td>4/1/18 1:00</td>\n",
       "      <td>4/3/18 13:48</td>\n",
       "      <td>3.0</td>\n",
       "    </tr>\n",
       "    <tr>\n",
       "      <th>1</th>\n",
       "      <td>Website</td>\n",
       "      <td>Complaint</td>\n",
       "      <td>Police</td>\n",
       "      <td>Lack of Presence - STA</td>\n",
       "      <td>M30 - Powell St. (SF)</td>\n",
       "      <td>4/1/18 1:00</td>\n",
       "      <td>4/3/18 13:45</td>\n",
       "      <td>3.0</td>\n",
       "    </tr>\n",
       "    <tr>\n",
       "      <th>2</th>\n",
       "      <td>Website</td>\n",
       "      <td>Complaint</td>\n",
       "      <td>Maintenance and Equipment</td>\n",
       "      <td>M&amp;E Misc.</td>\n",
       "      <td>M60 - 24th St. Mission (SF)</td>\n",
       "      <td>4/1/18 9:19</td>\n",
       "      <td>4/3/18 11:39</td>\n",
       "      <td>2.0</td>\n",
       "    </tr>\n",
       "    <tr>\n",
       "      <th>3</th>\n",
       "      <td>Website</td>\n",
       "      <td>Complaint</td>\n",
       "      <td>Police</td>\n",
       "      <td>Lack of Presence - Train</td>\n",
       "      <td>NaN</td>\n",
       "      <td>4/1/18 12:59</td>\n",
       "      <td>4/3/18 11:34</td>\n",
       "      <td>2.0</td>\n",
       "    </tr>\n",
       "    <tr>\n",
       "      <th>4</th>\n",
       "      <td>Website</td>\n",
       "      <td>Complaint</td>\n",
       "      <td>Police</td>\n",
       "      <td>Lack of Presence - STA</td>\n",
       "      <td>C50 - Pleasant Hill/Contra Costa Centre</td>\n",
       "      <td>4/1/18 14:46</td>\n",
       "      <td>4/3/18 12:38</td>\n",
       "      <td>2.0</td>\n",
       "    </tr>\n",
       "  </tbody>\n",
       "</table>\n",
       "</div>"
      ],
      "text/plain": [
       "  Case Origin       Type                   Category              Sub-Category  \\\n",
       "0     Website  Complaint                     Police    Lack of Presence - STA   \n",
       "1     Website  Complaint                     Police    Lack of Presence - STA   \n",
       "2     Website  Complaint  Maintenance and Equipment                 M&E Misc.   \n",
       "3     Website  Complaint                     Police  Lack of Presence - Train   \n",
       "4     Website  Complaint                     Police    Lack of Presence - STA   \n",
       "\n",
       "                                   Station Date/Time Opened Date/Time Closed  \\\n",
       "0                    M30 - Powell St. (SF)      4/1/18 1:00     4/3/18 13:48   \n",
       "1                    M30 - Powell St. (SF)      4/1/18 1:00     4/3/18 13:45   \n",
       "2              M60 - 24th St. Mission (SF)      4/1/18 9:19     4/3/18 11:39   \n",
       "3                                      NaN     4/1/18 12:59     4/3/18 11:34   \n",
       "4  C50 - Pleasant Hill/Contra Costa Centre     4/1/18 14:46     4/3/18 12:38   \n",
       "\n",
       "   Age (Days)  \n",
       "0         3.0  \n",
       "1         3.0  \n",
       "2         2.0  \n",
       "3         2.0  \n",
       "4         2.0  "
      ]
     },
     "execution_count": 15,
     "metadata": {},
     "output_type": "execute_result"
    }
   ],
   "source": [
    "#BART Bringing in Operating Cost per Passenger CSV\n",
    "operating_costs = \"BART Data Sources/Financial Security_2018.csv\"\n",
    "operating_costs_pd = pd.read_csv(operating_costs)\n",
    "operating_costs_pd.head()\n",
    "\n",
    "# BART Station Traffic 2015-2018\n",
    "ridership = \"BART Data Sources/Sum_Ridership.csv\"\n",
    "ridership_pd = pd.read_csv(ridership)\n",
    "ridership_pd\n",
    "\n",
    "# BART Rider Satisfaction (customer complaints)\n",
    "customer_complaints = \"BART Data Sources/Customer Complaints Jan-Jun 2018.csv\"\n",
    "customer_complaints_pd = pd.read_csv(customer_complaints)\n",
    "customer_complaints_pd.head()"
   ]
  },
  {
   "cell_type": "code",
   "execution_count": null,
   "metadata": {},
   "outputs": [],
   "source": []
  }
 ],
 "metadata": {
  "kernelspec": {
   "display_name": "Python 3",
   "language": "python",
   "name": "python3"
  },
  "language_info": {
   "codemirror_mode": {
    "name": "ipython",
    "version": 3
   },
   "file_extension": ".py",
   "mimetype": "text/x-python",
   "name": "python",
   "nbconvert_exporter": "python",
   "pygments_lexer": "ipython3",
   "version": "3.7.3"
  }
 },
 "nbformat": 4,
 "nbformat_minor": 2
}
